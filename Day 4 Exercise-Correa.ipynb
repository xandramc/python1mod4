{
 "cells": [
  {
   "cell_type": "markdown",
   "metadata": {},
   "source": [
    "1. Round 4.5667 to the nearest hundreth using a build-in function, round()."
   ]
  },
  {
   "cell_type": "code",
   "execution_count": 1,
   "metadata": {},
   "outputs": [
    {
     "data": {
      "text/plain": [
       "4.57"
      ]
     },
     "execution_count": 1,
     "metadata": {},
     "output_type": "execute_result"
    }
   ],
   "source": [
    "round(4.5667, 2)"
   ]
  },
  {
   "cell_type": "markdown",
   "metadata": {},
   "source": [
    "2. Convert \"657\" to an integer data type"
   ]
  },
  {
   "cell_type": "code",
   "execution_count": 9,
   "metadata": {},
   "outputs": [
    {
     "data": {
      "text/plain": [
       "657"
      ]
     },
     "execution_count": 9,
     "metadata": {},
     "output_type": "execute_result"
    }
   ],
   "source": [
    "s = \"657\" \n",
    "int(s,0)"
   ]
  },
  {
   "cell_type": "markdown",
   "metadata": {},
   "source": [
    "3.\n",
    "Write a program to get two numbers from a user. Then, create a secret code where a code consists of 6 numbers and each number is randomly generated number between two numbers from a user. "
   ]
  },
  {
   "cell_type": "code",
   "execution_count": 8,
   "metadata": {},
   "outputs": [
    {
     "name": "stdout",
     "output_type": "stream",
     "text": [
      "Enter a number: 15\n",
      "Enter a larger number: 65\n",
      "Random number: 26\n"
     ]
    }
   ],
   "source": [
    "import random as rand\n",
    "\n",
    "#print(\"Enter a number:\")\n",
    "numb1 = int(input(\"Enter a number: \"))\n",
    "#print(\"Enter a larger number:\")\n",
    "numb2 = int(input(\"Enter a larger number: \"))\n",
    "#print(\"First number: \", numb1)\n",
    "#print(\"Second number: \", numb2)\n",
    "print(\"Random number:\", rand.randint(numb1, numb2))"
   ]
  },
  {
   "cell_type": "markdown",
   "metadata": {},
   "source": [
    "4.\n",
    "Write a program to center align below text where number of characters per line is 40:\n",
    "\n",
    "    Hickory, dickory, dock,\n",
    "    The mouse ran up the clock.\n",
    "    The clock struck one,\n",
    "    The mouse ran down,\n",
    "    Hickory, dickory, dock\n"
   ]
  },
  {
   "cell_type": "code",
   "execution_count": 6,
   "metadata": {},
   "outputs": [
    {
     "name": "stdout",
     "output_type": "stream",
     "text": [
      "                 Hickory, dickory, dock,                 \n",
      "             The mouse ran up the clock.             \n",
      "                   The clock struck one,                   \n",
      "                     The mouse ran down,                     \n",
      "                  Hickory, dickory, dock                  \n"
     ]
    }
   ],
   "source": [
    "line1 = \"Hickory, dickory, dock,\"\n",
    "line2 = \"The mouse ran up the clock.\"\n",
    "line3 = \"The clock struck one,\"\n",
    "line4 = \"The mouse ran down,\"\n",
    "line5 = \"Hickory, dickory, dock\"\n",
    "\n",
    "message1 = \"Hickory, dickory, dock,\"\n",
    "new_message1 = message1.strip()\n",
    "max_len = 40\n",
    "length = len(new_message1)\n",
    "blanks = max_len - length\n",
    "leading_blanks = \" \" * blanks\n",
    "trailing_blanks = blanks * \" \"\n",
    "print(leading_blanks+new_message1+trailing_blanks)\n",
    "\n",
    "message2 = \"The mouse ran up the clock.\"\n",
    "new_message2 = message2.strip()\n",
    "max_len = 40\n",
    "length = len(new_message2)\n",
    "blanks = max_len - length\n",
    "leading_blanks = \" \" * blanks\n",
    "trailing_blanks = blanks * \" \"\n",
    "print(leading_blanks+new_message2+trailing_blanks)\n",
    "\n",
    "message3 = \"The clock struck one,\"\n",
    "new_message3 = message3.strip()\n",
    "max_len = 40\n",
    "length = len(new_message3)\n",
    "blanks = max_len - length\n",
    "leading_blanks = \" \" * blanks\n",
    "trailing_blanks = blanks * \" \"\n",
    "print(leading_blanks+new_message3+trailing_blanks)\n",
    "\n",
    "message4 = \"The mouse ran down,\"\n",
    "new_message4 = message4.strip()\n",
    "max_len = 40\n",
    "length = len(new_message4)\n",
    "blanks = max_len - length\n",
    "leading_blanks = \" \" * blanks\n",
    "trailing_blanks = blanks * \" \"\n",
    "print(leading_blanks+new_message4+trailing_blanks)\n",
    "\n",
    "message5 = \"Hickory, dickory, dock\"\n",
    "new_message5 = message5.strip()\n",
    "max_len = 40\n",
    "length = len(new_message5)\n",
    "blanks = max_len - length\n",
    "leading_blanks = \" \" * blanks\n",
    "trailing_blanks = blanks * \" \"\n",
    "print(leading_blanks+new_message5+trailing_blanks)"
   ]
  },
  {
   "cell_type": "markdown",
   "metadata": {},
   "source": [
    "5. Write a function to calculate the miles per gallon.\n",
    "Get a miles driven and gallons used from a user and call your function to calculate the miles per gallon. "
   ]
  },
  {
   "cell_type": "code",
   "execution_count": 17,
   "metadata": {},
   "outputs": [
    {
     "name": "stdout",
     "output_type": "stream",
     "text": [
      "Calculate Miles Per Gallon\n",
      "\n",
      "Enter Miles Driven:\t25\n",
      "Enter Gallons Used:\t5\n",
      "------------------------------\n",
      "Miles Driven:\t25.00\n",
      "Gallons Used:\t5.00\n",
      "Miles Per Gallon:\t5.00\n"
     ]
    }
   ],
   "source": [
    "print(\"Calculate Miles Per Gallon\\n\")\n",
    "miles = float(input(\"Enter Miles Driven:\\t\"))\n",
    "gallons = float(input(\"Enter Gallons Used:\\t\"))\n",
    "mpg = float(miles) / float(gallons)\n",
    "print(\"-\" * 30)\n",
    "print(f\"Miles Driven:\\t{miles:.2f}\")\n",
    "print(f\"Gallons Used:\\t{gallons:.2f}\")\n",
    "print(f\"Miles Per Gallon:\\t{mpg:.2f}\")"
   ]
  },
  {
   "cell_type": "code",
   "execution_count": null,
   "metadata": {},
   "outputs": [],
   "source": []
  }
 ],
 "metadata": {
  "kernelspec": {
   "display_name": "Python 3",
   "language": "python",
   "name": "python3"
  },
  "language_info": {
   "codemirror_mode": {
    "name": "ipython",
    "version": 3
   },
   "file_extension": ".py",
   "mimetype": "text/x-python",
   "name": "python",
   "nbconvert_exporter": "python",
   "pygments_lexer": "ipython3",
   "version": "3.8.8"
  }
 },
 "nbformat": 4,
 "nbformat_minor": 4
}
